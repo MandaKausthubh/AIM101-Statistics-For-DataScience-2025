{
 "cells": [
  {
   "cell_type": "code",
   "execution_count": 10,
   "metadata": {
    "_cell_guid": "b1076dfc-b9ad-4769-8c92-a6c4dae69d19",
    "_uuid": "8f2839f25d086af736a60e9eeb907d3b93b6e0e5",
    "execution": {
     "iopub.execute_input": "2025-01-11T09:02:48.567705Z",
     "iopub.status.busy": "2025-01-11T09:02:48.567315Z",
     "iopub.status.idle": "2025-01-11T09:02:48.572499Z",
     "shell.execute_reply": "2025-01-11T09:02:48.570976Z",
     "shell.execute_reply.started": "2025-01-11T09:02:48.567676Z"
    },
    "trusted": true
   },
   "outputs": [],
   "source": [
    "import numpy as np\n",
    "import matplotlib.pyplot as plt\n",
    "import pandas as pd"
   ]
  },
  {
   "cell_type": "code",
   "execution_count": 11,
   "metadata": {
    "execution": {
     "iopub.execute_input": "2025-01-11T09:02:48.574818Z",
     "iopub.status.busy": "2025-01-11T09:02:48.574286Z",
     "iopub.status.idle": "2025-01-11T09:02:48.589583Z",
     "shell.execute_reply": "2025-01-11T09:02:48.588518Z",
     "shell.execute_reply.started": "2025-01-11T09:02:48.574692Z"
    },
    "trusted": true
   },
   "outputs": [],
   "source": [
    "DataSet = np.random.beta(1.0, 3.5 ,250)"
   ]
  },
  {
   "cell_type": "code",
   "execution_count": 12,
   "metadata": {
    "execution": {
     "iopub.execute_input": "2025-01-11T09:02:48.591649Z",
     "iopub.status.busy": "2025-01-11T09:02:48.591310Z",
     "iopub.status.idle": "2025-01-11T09:02:48.878231Z",
     "shell.execute_reply": "2025-01-11T09:02:48.877089Z",
     "shell.execute_reply.started": "2025-01-11T09:02:48.591621Z"
    },
    "trusted": true
   },
   "outputs": [
    {
     "data": {
      "text/plain": [
       "(array([37., 34., 27., 33., 28., 23., 12., 10., 16.,  7.,  6.,  7.,  1.,\n",
       "         4.,  1.,  2.,  0.,  0.,  1.,  1.]),\n",
       " array([0.00357852, 0.04833763, 0.09309674, 0.13785585, 0.18261495,\n",
       "        0.22737406, 0.27213317, 0.31689227, 0.36165138, 0.40641049,\n",
       "        0.4511696 , 0.4959287 , 0.54068781, 0.58544692, 0.63020603,\n",
       "        0.67496513, 0.71972424, 0.76448335, 0.80924246, 0.85400156,\n",
       "        0.89876067]),\n",
       " <BarContainer object of 20 artists>)"
      ]
     },
     "execution_count": 12,
     "metadata": {},
     "output_type": "execute_result"
    },
    {
     "data": {
      "image/png": "[encoded data removed]",
      "text/plain": [
       "<Figure size 640x480 with 1 Axes>"
      ]
     },
     "metadata": {},
     "output_type": "display_data"
    }
   ],
   "source": [
    "plt.hist(DataSet, bins=20)"
   ]
  },
  {
   "cell_type": "code",
   "execution_count": 13,
   "metadata": {
    "execution": {
     "iopub.execute_input": "2025-01-11T09:02:48.880018Z",
     "iopub.status.busy": "2025-01-11T09:02:48.879748Z",
     "iopub.status.idle": "2025-01-11T09:02:48.886067Z",
     "shell.execute_reply": "2025-01-11T09:02:48.884966Z",
     "shell.execute_reply.started": "2025-01-11T09:02:48.879996Z"
    },
    "trusted": true
   },
   "outputs": [
    {
     "data": {
      "text/plain": [
       "np.float64(0.2093192036036661)"
      ]
     },
     "execution_count": 13,
     "metadata": {},
     "output_type": "execute_result"
    }
   ],
   "source": [
    "np.mean(DataSet)"
   ]
  },
  {
   "cell_type": "code",
   "execution_count": 14,
   "metadata": {
    "execution": {
     "iopub.execute_input": "2025-01-11T09:02:48.887351Z",
     "iopub.status.busy": "2025-01-11T09:02:48.887022Z",
     "iopub.status.idle": "2025-01-11T09:02:49.181604Z",
     "shell.execute_reply": "2025-01-11T09:02:49.180423Z",
     "shell.execute_reply.started": "2025-01-11T09:02:48.887323Z"
    },
    "trusted": true
   },
   "outputs": [
    {
     "data": {
      "text/plain": [
       "(array([37., 34., 27., 33., 28., 23., 12., 10., 16.,  7.,  6.,  7.,  1.,\n",
       "         4.,  1.,  2.,  0.,  0.,  1.,  1.]),\n",
       " array([0.00357852, 0.04833763, 0.09309674, 0.13785585, 0.18261495,\n",
       "        0.22737406, 0.27213317, 0.31689227, 0.36165138, 0.40641049,\n",
       "        0.4511696 , 0.4959287 , 0.54068781, 0.58544692, 0.63020603,\n",
       "        0.67496513, 0.71972424, 0.76448335, 0.80924246, 0.85400156,\n",
       "        0.89876067]),\n",
       " <BarContainer object of 20 artists>)"
      ]
     },
     "execution_count": 14,
     "metadata": {},
     "output_type": "execute_result"
    },
    {
     "data": {
      "image/png": "[encoded data removed]",
      "text/plain": [
       "<Figure size 640x480 with 1 Axes>"
      ]
     },
     "metadata": {},
     "output_type": "display_data"
    }
   ],
   "source": [
    "## Let us look at how the data is distributed here\n",
    "def MeanSquaredDistance(x):\n",
    "    return np.mean((DataSet - x)**2)\n",
    "\n",
    "\n",
    "x_axis = np.linspace(-0.5,1,150)\n",
    "mean_squared_error = np.array([MeanSquaredDistance(x) for x in x_axis])\n",
    "plt.plot(x_axis, 100*mean_squared_error, '.-r')\n",
    "plt.hist(DataSet, alpha=0.5, bins=20)"
   ]
  },
  {
   "cell_type": "code",
   "execution_count": 15,
   "metadata": {
    "execution": {
     "iopub.execute_input": "2025-01-11T09:02:49.183044Z",
     "iopub.status.busy": "2025-01-11T09:02:49.182688Z",
     "iopub.status.idle": "2025-01-11T09:02:49.190089Z",
     "shell.execute_reply": "2025-01-11T09:02:49.189169Z",
     "shell.execute_reply.started": "2025-01-11T09:02:49.183019Z"
    },
    "trusted": true
   },
   "outputs": [
    {
     "data": {
      "text/plain": [
       "(1000, 2)"
      ]
     },
     "execution_count": 15,
     "metadata": {},
     "output_type": "execute_result"
    }
   ],
   "source": [
    "Dataset_x = np.random.normal(2.5, 0.25, 1000)\n",
    "Dataset_y = np.random.normal(1.5, 0.35, 1000)\n",
    "\n",
    "Dataset = np.dstack((Dataset_x, Dataset_y))[0]\n",
    "Dataset.shape"
   ]
  },
  {
   "cell_type": "code",
   "execution_count": 16,
   "metadata": {
    "execution": {
     "iopub.execute_input": "2025-01-11T09:02:49.191522Z",
     "iopub.status.busy": "2025-01-11T09:02:49.191153Z",
     "iopub.status.idle": "2025-01-11T09:02:49.207634Z",
     "shell.execute_reply": "2025-01-11T09:02:49.206731Z",
     "shell.execute_reply.started": "2025-01-11T09:02:49.191483Z"
    },
    "trusted": true
   },
   "outputs": [
    {
     "data": {
      "text/plain": [
       "array([2.51104712, 1.4902869 ])"
      ]
     },
     "execution_count": 16,
     "metadata": {},
     "output_type": "execute_result"
    }
   ],
   "source": [
    "np.mean(Dataset, axis=0)"
   ]
  },
  {
   "cell_type": "code",
   "execution_count": 17,
   "metadata": {
    "execution": {
     "iopub.execute_input": "2025-01-11T09:03:39.077578Z",
     "iopub.status.busy": "2025-01-11T09:03:39.077215Z",
     "iopub.status.idle": "2025-01-11T09:03:39.085024Z",
     "shell.execute_reply": "2025-01-11T09:03:39.084104Z",
     "shell.execute_reply.started": "2025-01-11T09:03:39.077532Z"
    },
    "trusted": true
   },
   "outputs": [
    {
     "data": {
      "text/plain": [
       "np.float64(3.5557143127577473)"
      ]
     },
     "execution_count": 17,
     "metadata": {},
     "output_type": "execute_result"
    }
   ],
   "source": [
    "def MeanSquaredDistance(x, y):\n",
    "    return  np.mean(np.linalg.norm((Dataset - np.array([x,y])), axis=1))\n",
    "\n",
    "x = np.array([2,5])\n",
    "MeanSquaredDistance(2,5)"
   ]
  },
  {
   "cell_type": "code",
   "execution_count": 18,
   "metadata": {
    "execution": {
     "iopub.execute_input": "2025-01-11T09:04:29.892004Z",
     "iopub.status.busy": "2025-01-11T09:04:29.891670Z",
     "iopub.status.idle": "2025-01-11T09:04:29.899740Z",
     "shell.execute_reply": "2025-01-11T09:04:29.898847Z",
     "shell.execute_reply.started": "2025-01-11T09:04:29.891979Z"
    },
    "trusted": true
   },
   "outputs": [
    {
     "data": {
      "text/plain": [
       "((100, 100), (100, 100))"
      ]
     },
     "execution_count": 18,
     "metadata": {},
     "output_type": "execute_result"
    }
   ],
   "source": [
    "## Mean Squared Distance\n",
    "x_axis = np.linspace(0,5,100)\n",
    "y_axis = np.linspace(0,5,100)\n",
    "\n",
    "X, Y = np.meshgrid(x_axis, y_axis)\n",
    "\n",
    "X.shape, Y.shape"
   ]
  }
 ],
 "metadata": {
  "kaggle": {
   "accelerator": "none",
   "dataSources": [],
   "dockerImageVersionId": 30822,
   "isGpuEnabled": false,
   "isInternetEnabled": true,
   "language": "python",
   "sourceType": "notebook"
  },
  "kernelspec": {
   "display_name": "env",
   "language": "python",
   "name": "python3"
  },
  "language_info": {
   "codemirror_mode": {
    "name": "ipython",
    "version": 3
   },
   "file_extension": ".py",
   "mimetype": "text/x-python",
   "name": "python",
   "nbconvert_exporter": "python",
   "pygments_lexer": "ipython3",
   "version": "3.10.10"
  }
 },
 "nbformat": 4,
 "nbformat_minor": 4
}
