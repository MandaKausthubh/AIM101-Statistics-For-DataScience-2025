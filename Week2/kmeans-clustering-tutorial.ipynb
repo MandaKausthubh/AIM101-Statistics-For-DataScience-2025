{
 "cells": [
  {
   "cell_type": "code",
   "execution_count": 1,
   "metadata": {
    "_cell_guid": "b1076dfc-b9ad-4769-8c92-a6c4dae69d19",
    "_uuid": "8f2839f25d086af736a60e9eeb907d3b93b6e0e5",
    "execution": {
     "iopub.execute_input": "2025-01-11T05:25:17.451837Z",
     "iopub.status.busy": "2025-01-11T05:25:17.451354Z",
     "iopub.status.idle": "2025-01-11T05:25:17.951199Z",
     "shell.execute_reply": "2025-01-11T05:25:17.949412Z",
     "shell.execute_reply.started": "2025-01-11T05:25:17.451765Z"
    },
    "trusted": true
   },
   "outputs": [],
   "source": [
    "import numpy as np\n",
    "import pandas as pd\n",
    "import matplotlib.pyplot as plt"
   ]
  },
  {
   "cell_type": "markdown",
   "metadata": {},
   "source": [
    "# Lets generate the dataset to work with\n",
    "\n",
    "## Initial setup\n",
    "\n",
    "Suppose that you a young data science student came across a garden and wanted to study 2 species of roses: *Rosa rubiginosa* and *Rosa rugosa*. In order study them you collected data about them. Let's say you only collected the length of it's petals. (Here we *generate* this data instead of collecting but you get the point).\n",
    "\n",
    "But ohh no one of your friend who is clumsy messed up!! He/She has the data stored, but lost the labels!! So all you are left with is a bunch of numbers. Can you still do something about it??"
   ]
  },
  {
   "cell_type": "code",
   "execution_count": 2,
   "metadata": {
    "execution": {
     "iopub.execute_input": "2025-01-11T05:26:06.600385Z",
     "iopub.status.busy": "2025-01-11T05:26:06.600012Z",
     "iopub.status.idle": "2025-01-11T05:26:07.124337Z",
     "shell.execute_reply": "2025-01-11T05:26:07.123237Z",
     "shell.execute_reply.started": "2025-01-11T05:26:06.600353Z"
    },
    "trusted": true
   },
   "outputs": [
    {
     "data": {
      "text/plain": [
       "(array([  3.,   2.,   3.,   5.,   9.,  15.,  15.,  24.,  26.,  39.,  61.,\n",
       "         66.,  73.,  83., 101., 127., 139., 202., 215., 259., 245., 294.,\n",
       "        321., 309., 347., 355., 355., 340., 367., 325., 312., 301., 266.,\n",
       "        218., 210., 168., 150., 132., 109., 102.,  81.,  62.,  38.,  31.,\n",
       "         27.,  17.,  18.,   9.,   7.,   4.,   5.,   3.,   0.,   1.,   1.,\n",
       "          1.,   0.,   0.,   0.,   2.]),\n",
       " array([1.70421947, 1.74199231, 1.77976514, 1.81753798, 1.85531081,\n",
       "        1.89308365, 1.93085648, 1.96862932, 2.00640215, 2.04417499,\n",
       "        2.08194782, 2.11972066, 2.15749349, 2.19526633, 2.23303916,\n",
       "        2.270812  , 2.30858484, 2.34635767, 2.38413051, 2.42190334,\n",
       "        2.45967618, 2.49744901, 2.53522185, 2.57299468, 2.61076752,\n",
       "        2.64854035, 2.68631319, 2.72408602, 2.76185886, 2.79963169,\n",
       "        2.83740453, 2.87517736, 2.9129502 , 2.95072304, 2.98849587,\n",
       "        3.02626871, 3.06404154, 3.10181438, 3.13958721, 3.17736005,\n",
       "        3.21513288, 3.25290572, 3.29067855, 3.32845139, 3.36622422,\n",
       "        3.40399706, 3.44176989, 3.47954273, 3.51731557, 3.5550884 ,\n",
       "        3.59286124, 3.63063407, 3.66840691, 3.70617974, 3.74395258,\n",
       "        3.78172541, 3.81949825, 3.85727108, 3.89504392, 3.93281675,\n",
       "        3.97058959]),\n",
       " <BarContainer object of 60 artists>)"
      ]
     },
     "execution_count": 2,
     "metadata": {},
     "output_type": "execute_result"
    },
    {
     "data": {
      "image/png": "[encoded data removed]",
      "text/plain": [
       "<Figure size 640x480 with 1 Axes>"
      ]
     },
     "metadata": {},
     "output_type": "display_data"
    }
   ],
   "source": [
    "# Collecting (Generating) the data of the followers by sampling from a Gaussian distribution\n",
    "PetalLengthsRubi = np.random.normal(0.7,0.5, 7000)\n",
    "PetalLengthsRugo = np.random.normal(2.7,0.3, 7000)\n",
    "\n",
    "plt.hist(PetalLengthsRubi, bins=60)\n",
    "plt.hist(PetalLengthsRugo, bins=60)"
   ]
  },
  {
   "cell_type": "code",
   "execution_count": 3,
   "metadata": {
    "execution": {
     "iopub.execute_input": "2025-01-11T05:26:16.875601Z",
     "iopub.status.busy": "2025-01-11T05:26:16.875253Z",
     "iopub.status.idle": "2025-01-11T05:26:16.881196Z",
     "shell.execute_reply": "2025-01-11T05:26:16.879916Z",
     "shell.execute_reply.started": "2025-01-11T05:26:16.875561Z"
    },
    "trusted": true
   },
   "outputs": [],
   "source": [
    "# Code represents your clumsy friend:\n",
    "PetalLengths = np.concatenate((PetalLengthsRubi, PetalLengthsRugo))\n",
    "newindexs = np.random.permutation(14000)\n",
    "PetalLengths = PetalLengths[newindexs]"
   ]
  },
  {
   "cell_type": "markdown",
   "metadata": {},
   "source": [
    "# Looking at the mess: NO LABELS!!\n",
    "So now you young data science students, have to get your original samples back. How do you do this?? Well just have a look at the histogram below: We have two \"clusters\". So if we can create a reasonable way to model each cluster, we can see atleast organize the into roughly two clusters representing each flower samples, (Note that even after clustering you will have no idea of which cluster would represents what!!)."
   ]
  },
  {
   "cell_type": "code",
   "execution_count": 4,
   "metadata": {
    "execution": {
     "iopub.execute_input": "2025-01-11T05:26:48.935262Z",
     "iopub.status.busy": "2025-01-11T05:26:48.934909Z",
     "iopub.status.idle": "2025-01-11T05:26:49.235747Z",
     "shell.execute_reply": "2025-01-11T05:26:49.234738Z",
     "shell.execute_reply.started": "2025-01-11T05:26:48.935236Z"
    },
    "trusted": true
   },
   "outputs": [
    {
     "data": {
      "text/plain": [
       "(array([  2.,   1.,   1.,   2.,   4.,   8.,  11.,  24.,  19.,  43.,  51.,\n",
       "         88., 107., 156., 197., 236., 256., 334., 364., 439., 440., 475.,\n",
       "        497., 502., 471., 393., 391., 326., 275., 251., 156., 128., 121.,\n",
       "         77.,  55.,  60.,  62.,  86., 126., 184., 271., 420., 570., 700.,\n",
       "        773., 810., 785., 682., 543., 376., 275., 187.,  90.,  52.,  26.,\n",
       "         12.,   4.,   3.,   0.,   2.]),\n",
       " array([-1.24339015, -1.15649048, -1.06959082, -0.98269116, -0.8957915 ,\n",
       "        -0.80889184, -0.72199217, -0.63509251, -0.54819285, -0.46129319,\n",
       "        -0.37439352, -0.28749386, -0.2005942 , -0.11369454, -0.02679487,\n",
       "         0.06010479,  0.14700445,  0.23390411,  0.32080377,  0.40770344,\n",
       "         0.4946031 ,  0.58150276,  0.66840242,  0.75530209,  0.84220175,\n",
       "         0.92910141,  1.01600107,  1.10290073,  1.1898004 ,  1.27670006,\n",
       "         1.36359972,  1.45049938,  1.53739905,  1.62429871,  1.71119837,\n",
       "         1.79809803,  1.88499769,  1.97189736,  2.05879702,  2.14569668,\n",
       "         2.23259634,  2.31949601,  2.40639567,  2.49329533,  2.58019499,\n",
       "         2.66709466,  2.75399432,  2.84089398,  2.92779364,  3.0146933 ,\n",
       "         3.10159297,  3.18849263,  3.27539229,  3.36229195,  3.44919162,\n",
       "         3.53609128,  3.62299094,  3.7098906 ,  3.79679026,  3.88368993,\n",
       "         3.97058959]),\n",
       " <BarContainer object of 60 artists>)"
      ]
     },
     "execution_count": 4,
     "metadata": {},
     "output_type": "execute_result"
    },
    {
     "data": {
      "image/png": "[encoded data removed]",
      "text/plain": [
       "<Figure size 640x480 with 1 Axes>"
      ]
     },
     "metadata": {},
     "output_type": "display_data"
    }
   ],
   "source": [
    "plt.hist(PetalLengths, bins=60)"
   ]
  },
  {
   "cell_type": "markdown",
   "metadata": {},
   "source": [
    "# Our Model: K-means!!\n",
    "We apply a pretty simple algorithm. Which does takes the following steps:\n",
    "\n",
    "1. Try picking two random points taken from the data itself, and call them point1 and point2\n",
    "2. Now repeatedly do the following (Say 10 iterations):\n",
    "    1. For each point check which is closer: point1 or point2, and put the point into \"Cluster 1\" or \"Cluster 2\" accordingly. (Note that pointx is in Clusterx too)\n",
    "    2. Set point1 = mean of all points in Cluster1\n",
    "    3. Set point2 = mean of all points in Cluster2\n",
    "22. Hurray!! Using the point1 and point2 we can decide which cluster each sample belongs to."
   ]
  },
  {
   "cell_type": "code",
   "execution_count": 5,
   "metadata": {
    "execution": {
     "iopub.execute_input": "2025-01-11T05:27:43.379047Z",
     "iopub.status.busy": "2025-01-11T05:27:43.378623Z",
     "iopub.status.idle": "2025-01-11T05:27:43.383239Z",
     "shell.execute_reply": "2025-01-11T05:27:43.382153Z",
     "shell.execute_reply.started": "2025-01-11T05:27:43.379013Z"
    },
    "trusted": true
   },
   "outputs": [],
   "source": [
    "## a. Practice writing the code for the algorithm above to find the values of point1 and point2:"
   ]
  },
  {
   "cell_type": "code",
   "execution_count": 6,
   "metadata": {
    "execution": {
     "iopub.execute_input": "2025-01-11T05:27:43.947785Z",
     "iopub.status.busy": "2025-01-11T05:27:43.947447Z",
     "iopub.status.idle": "2025-01-11T05:27:43.952831Z",
     "shell.execute_reply": "2025-01-11T05:27:43.950956Z",
     "shell.execute_reply.started": "2025-01-11T05:27:43.947759Z"
    },
    "trusted": true
   },
   "outputs": [],
   "source": [
    "## b. Create the clusters using the messed up data:"
   ]
  },
  {
   "cell_type": "code",
   "execution_count": 7,
   "metadata": {
    "execution": {
     "iopub.execute_input": "2025-01-11T05:27:44.671721Z",
     "iopub.status.busy": "2025-01-11T05:27:44.671370Z",
     "iopub.status.idle": "2025-01-11T05:27:44.675866Z",
     "shell.execute_reply": "2025-01-11T05:27:44.674745Z",
     "shell.execute_reply.started": "2025-01-11T05:27:44.671695Z"
    },
    "trusted": true
   },
   "outputs": [],
   "source": [
    "## c. Plot the clusters and see how similar they are to the original plot you had!!"
   ]
  },
  {
   "cell_type": "code",
   "execution_count": 8,
   "metadata": {
    "execution": {
     "iopub.execute_input": "2025-01-11T05:27:45.595948Z",
     "iopub.status.busy": "2025-01-11T05:27:45.595557Z",
     "iopub.status.idle": "2025-01-11T05:27:45.600009Z",
     "shell.execute_reply": "2025-01-11T05:27:45.598729Z",
     "shell.execute_reply.started": "2025-01-11T05:27:45.595917Z"
    },
    "trusted": true
   },
   "outputs": [],
   "source": [
    "## d. Use the original separate data and check you these points are classified"
   ]
  },
  {
   "cell_type": "code",
   "execution_count": null,
   "metadata": {
    "trusted": true
   },
   "outputs": [],
   "source": []
  }
 ],
 "metadata": {
  "kaggle": {
   "accelerator": "none",
   "dataSources": [
    {
     "datasetId": 1810,
     "sourceId": 3133,
     "sourceType": "datasetVersion"
    }
   ],
   "dockerImageVersionId": 30822,
   "isGpuEnabled": false,
   "isInternetEnabled": true,
   "language": "python",
   "sourceType": "notebook"
  },
  "kernelspec": {
   "display_name": "env",
   "language": "python",
   "name": "python3"
  },
  "language_info": {
   "codemirror_mode": {
    "name": "ipython",
    "version": 3
   },
   "file_extension": ".py",
   "mimetype": "text/x-python",
   "name": "python",
   "nbconvert_exporter": "python",
   "pygments_lexer": "ipython3",
   "version": "3.10.10"
  }
 },
 "nbformat": 4,
 "nbformat_minor": 4
}
