{
 "cells": [
  {
   "cell_type": "markdown",
   "metadata": {},
   "source": [
    "# Notebook 4: Matplotlib Hands-On Challenges\n",
    "\n",
    "## Problem 1: Create a Line Plot of a Quadratic Function\n",
    "Create a line plot for the quadratic function \\( y = x^2 \\). Use a range of \\( x \\) values from -10 to 10.\n",
    "\n",
    "### Instructions:\n",
    "- Define the \\( x \\) values.\n",
    "- Compute the corresponding \\( y \\) values using the quadratic equation.\n",
    "- Plot the graph and label the axes.\n",
    "\n",
    "---\n",
    "\n",
    "## Problem 2: Visualize the Iris Dataset with Scatter Plots\n",
    "Using the Iris dataset, create a scatter plot for each pair of features.\n",
    "\n",
    "### Instructions:\n",
    "- Load the Iris dataset using pandas.\n",
    "- Use a scatter plot to visualize each pair of features (e.g., sepal length vs. sepal width).\n",
    "- Differentiate the species using colors.\n",
    "\n",
    "---\n",
    "\n",
    "## Problem 3: Load a CSV Dataset and Create Plots\n",
    "Load a CSV dataset of your choice and create the following visualizations:\n",
    "- A **bar plot** showing the average of one feature grouped by another.\n",
    "- A **histogram** showing the distribution of a numeric feature.\n",
    "\n",
    "### Instructions:\n",
    "- Choose a dataset and load it using pandas.\n",
    "- Compute the average of the selected feature grouped by the specified category for the bar plot.\n",
    "- Create a histogram for a chosen numeric feature.\n",
    "\n",
    "---\n",
    "\n",
    "## Problem 4: Create a Subplot Figure with Different Plot Types\n",
    "Create a subplot figure that contains at least 4 different types of plots using the same dataset.\n",
    "\n",
    "### Instructions:\n",
    "- Load a dataset and explore its features.\n",
    "- Create a subplot figure with at least four different types of plots (e.g., line plot, bar plot, scatter plot, histogram).\n",
    "- Label each subplot accordingly.\n",
    "\n",
    "---\n",
    "\n",
    "## Problem 5: Explore Styling Options in Matplotlib\n",
    "Explore the styling options in Matplotlib and customize a plot.\n",
    "\n",
    "### Instructions:\n",
    "- Create a simple plot (e.g., line plot or scatter plot).\n",
    "- Change the colors, line styles, markers, and other visual elements to enhance the plot's appearance.\n",
    "- Save the customized plot as an image.\n",
    "\n",
    "---\n"
   ]
  },
  {
   "cell_type": "markdown",
   "metadata": {},
   "source": []
  }
 ],
 "metadata": {
  "language_info": {
   "name": "python"
  }
 },
 "nbformat": 4,
 "nbformat_minor": 2
}
