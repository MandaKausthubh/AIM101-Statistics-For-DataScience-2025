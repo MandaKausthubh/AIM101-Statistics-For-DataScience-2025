{
 "cells": [
  {
   "cell_type": "code",
   "execution_count": 189,
   "metadata": {},
   "outputs": [],
   "source": [
    "from utils import showDisplay\n",
    "import numpy as np\n",
    "import matplotlib.pyplot as plt"
   ]
  },
  {
   "cell_type": "markdown",
   "metadata": {},
   "source": [
    "# 1. Linearity of Expectations"
   ]
  },
  {
   "cell_type": "code",
   "execution_count": 190,
   "metadata": {},
   "outputs": [
    {
     "data": {
      "text/markdown": [
       "## **1.1 Introduction**"
      ],
      "text/plain": [
       "<IPython.core.display.Markdown object>"
      ]
     },
     "metadata": {},
     "output_type": "display_data"
    },
    {
     "data": {
      "text/markdown": [
       "Linearity of expectations states that the expectation of the sum of random variables is equal to the sum of their individual expectations:"
      ],
      "text/plain": [
       "<IPython.core.display.Markdown object>"
      ]
     },
     "metadata": {},
     "output_type": "display_data"
    },
    {
     "data": {
      "text/latex": [
       "$\\displaystyle E[X + Y] = E[X] + E[Y]$"
      ],
      "text/plain": [
       "<IPython.core.display.Math object>"
      ]
     },
     "metadata": {},
     "output_type": "display_data"
    },
    {
     "data": {
      "text/markdown": [
       "This property holds regardless of whether \\( X \\) and \\( Y \\) are independent."
      ],
      "text/plain": [
       "<IPython.core.display.Markdown object>"
      ]
     },
     "metadata": {},
     "output_type": "display_data"
    },
    {
     "data": {
      "text/markdown": [
       "For multiple random variables, it generalizes as:"
      ],
      "text/plain": [
       "<IPython.core.display.Markdown object>"
      ]
     },
     "metadata": {},
     "output_type": "display_data"
    },
    {
     "data": {
      "text/latex": [
       "$\\displaystyle E\\left[\\sum_{i=1}^n X_i\\right] = \\sum_{i=1}^n E[X_i]$"
      ],
      "text/plain": [
       "<IPython.core.display.Math object>"
      ]
     },
     "metadata": {},
     "output_type": "display_data"
    },
    {
     "data": {
      "text/markdown": [
       "## **1.2 Basic Derivation and Reasoning**"
      ],
      "text/plain": [
       "<IPython.core.display.Markdown object>"
      ]
     },
     "metadata": {},
     "output_type": "display_data"
    },
    {
     "data": {
      "text/markdown": [
       "Using the definition of expectation:"
      ],
      "text/plain": [
       "<IPython.core.display.Markdown object>"
      ]
     },
     "metadata": {},
     "output_type": "display_data"
    },
    {
     "data": {
      "text/latex": [
       "$\\displaystyle E[X + Y] = \\int_{-\\infty}^\\infty (x + y) \\cdot f_{X+Y}(x, y) \\, dx \\, dy$"
      ],
      "text/plain": [
       "<IPython.core.display.Math object>"
      ]
     },
     "metadata": {},
     "output_type": "display_data"
    },
    {
     "data": {
      "text/markdown": [
       "This can be split into two integrals:"
      ],
      "text/plain": [
       "<IPython.core.display.Markdown object>"
      ]
     },
     "metadata": {},
     "output_type": "display_data"
    },
    {
     "data": {
      "text/latex": [
       "$\\displaystyle E[X + Y] = \\int_{-\\infty}^\\infty x \\cdot f_X(x) \\, dx + \\int_{-\\infty}^\\infty y \\cdot f_Y(y) \\, dy$"
      ],
      "text/plain": [
       "<IPython.core.display.Math object>"
      ]
     },
     "metadata": {},
     "output_type": "display_data"
    },
    {
     "data": {
      "text/latex": [
       "$\\displaystyle E[X + Y] = E[X] + E[Y]$"
      ],
      "text/plain": [
       "<IPython.core.display.Math object>"
      ]
     },
     "metadata": {},
     "output_type": "display_data"
    },
    {
     "data": {
      "text/markdown": [
       "This holds because addition is distributive over integration."
      ],
      "text/plain": [
       "<IPython.core.display.Markdown object>"
      ]
     },
     "metadata": {},
     "output_type": "display_data"
    },
    {
     "data": {
      "text/markdown": [
       "## **1.3 Real-Life Use Cases**"
      ],
      "text/plain": [
       "<IPython.core.display.Markdown object>"
      ]
     },
     "metadata": {},
     "output_type": "display_data"
    },
    {
     "data": {
      "text/markdown": [
       "1. **Finance:** Expected returns of a portfolio are the sum of expected returns from individual assets."
      ],
      "text/plain": [
       "<IPython.core.display.Markdown object>"
      ]
     },
     "metadata": {},
     "output_type": "display_data"
    },
    {
     "data": {
      "text/markdown": [
       "2. **Supply Chain Management:** The expected demand for a product across multiple regions is additive."
      ],
      "text/plain": [
       "<IPython.core.display.Markdown object>"
      ]
     },
     "metadata": {},
     "output_type": "display_data"
    },
    {
     "data": {
      "text/markdown": [
       "3. **Gaming:** Expected scores in a game with multiple rounds are additive across rounds."
      ],
      "text/plain": [
       "<IPython.core.display.Markdown object>"
      ]
     },
     "metadata": {},
     "output_type": "display_data"
    }
   ],
   "source": [
    "showDisplay(1)"
   ]
  },
  {
   "cell_type": "code",
   "execution_count": 191,
   "metadata": {},
   "outputs": [
    {
     "name": "stdout",
     "output_type": "stream",
     "text": [
      "E[Normal]: 50.00212622959481\n",
      "E[Poisson]: 6.999509\n",
      "E[Uniform]: 14.999164056668693\n",
      "E[Binomial]: 10.003622\n",
      "E[Exponential]: 4.999988515918973\n",
      "E[Beta]: 28.56243277237538\n",
      "\n",
      "Sum of individual expectations: 115.56684257455785\n",
      "Expectation of the combined dataset (E[X1 + X2 + X3 + X4 + X5 + X6]): 115.5668425745579\n"
     ]
    }
   ],
   "source": [
    "dataset_size = 1000000\n",
    "# Generate datasets from 6 named distributions\n",
    "dataset1 = np.random.normal(50, 10, dataset_size)        # Normal distribution (mean=50, stddev=10)\n",
    "dataset2 = np.random.poisson(7, dataset_size)            # Poisson distribution (lambda=7)\n",
    "dataset3 = np.random.uniform(10, 20, dataset_size)       # Uniform distribution (range 10 to 20)\n",
    "dataset4 = np.random.binomial(20, 0.5, dataset_size)     # Binomial distribution (n=20, p=0.5)\n",
    "dataset5 = np.random.exponential(5, dataset_size)        # Exponential distribution (scale=5)\n",
    "dataset6 = np.random.beta(2, 5, dataset_size) * 100      # Beta distribution (alpha=2, beta=5, scaled to 0-100)\n",
    "\n",
    "# Calculate expectations\n",
    "expectations = [\n",
    "    (\"Normal\", np.mean(dataset1)),\n",
    "    (\"Poisson\", np.mean(dataset2)),\n",
    "    (\"Uniform\", np.mean(dataset3)),\n",
    "    (\"Binomial\", np.mean(dataset4)),\n",
    "    (\"Exponential\", np.mean(dataset5)),\n",
    "    (\"Beta\", np.mean(dataset6)),\n",
    "]\n",
    "\n",
    "# Calculate combined expectations\n",
    "datasets = [dataset1, dataset2, dataset3, dataset4, dataset5, dataset6]\n",
    "combined_dataset = sum(datasets)\n",
    "combined_expectation = np.mean(combined_dataset)\n",
    "sum_of_individual_expectations = sum(exp[1] for exp in expectations)\n",
    "\n",
    "# Print individual expectations\n",
    "for name, expectation in expectations:\n",
    "    print(f\"E[{name}]: {expectation}\")\n",
    "\n",
    "# Print results for the sum\n",
    "print(f\"\\nSum of individual expectations: {sum_of_individual_expectations}\")\n",
    "print(f\"Expectation of the combined dataset (E[X1 + X2 + X3 + X4 + X5 + X6]): {combined_expectation}\")\n"
   ]
  },
  {
   "cell_type": "markdown",
   "metadata": {},
   "source": [
    "# 2. Linearity of Variance"
   ]
  },
  {
   "cell_type": "code",
   "execution_count": 192,
   "metadata": {},
   "outputs": [
    {
     "data": {
      "text/markdown": [
       "## **2.1 Introduction**"
      ],
      "text/plain": [
       "<IPython.core.display.Markdown object>"
      ]
     },
     "metadata": {},
     "output_type": "display_data"
    },
    {
     "data": {
      "text/markdown": [
       "Variance measures the spread of a random variable. For independent random variables, the variance of their sum is the sum of their variances:"
      ],
      "text/plain": [
       "<IPython.core.display.Markdown object>"
      ]
     },
     "metadata": {},
     "output_type": "display_data"
    },
    {
     "data": {
      "text/latex": [
       "$\\displaystyle \\text{Var}(X + Y) = \\text{Var}(X) + \\text{Var}(Y)$"
      ],
      "text/plain": [
       "<IPython.core.display.Math object>"
      ]
     },
     "metadata": {},
     "output_type": "display_data"
    },
    {
     "data": {
      "text/markdown": [
       "For multiple independent random variables:"
      ],
      "text/plain": [
       "<IPython.core.display.Markdown object>"
      ]
     },
     "metadata": {},
     "output_type": "display_data"
    },
    {
     "data": {
      "text/latex": [
       "$\\displaystyle \\text{Var}\\left(\\sum_{i=1}^n X_i\\right) = \\sum_{i=1}^n \\text{Var}(X_i)$"
      ],
      "text/plain": [
       "<IPython.core.display.Math object>"
      ]
     },
     "metadata": {},
     "output_type": "display_data"
    },
    {
     "data": {
      "text/markdown": [
       "## **2.2 Basic Derivation and Reasoning**"
      ],
      "text/plain": [
       "<IPython.core.display.Markdown object>"
      ]
     },
     "metadata": {},
     "output_type": "display_data"
    },
    {
     "data": {
      "text/markdown": [
       "From the definition of variance:"
      ],
      "text/plain": [
       "<IPython.core.display.Markdown object>"
      ]
     },
     "metadata": {},
     "output_type": "display_data"
    },
    {
     "data": {
      "text/latex": [
       "$\\displaystyle \\text{Var}[X + Y] = E[(X + Y)^2] - (E[X + Y])^2$"
      ],
      "text/plain": [
       "<IPython.core.display.Math object>"
      ]
     },
     "metadata": {},
     "output_type": "display_data"
    },
    {
     "data": {
      "text/markdown": [
       "Expanding \\( (X + Y)^2 \\):"
      ],
      "text/plain": [
       "<IPython.core.display.Markdown object>"
      ]
     },
     "metadata": {},
     "output_type": "display_data"
    },
    {
     "data": {
      "text/latex": [
       "$\\displaystyle E[(X + Y)^2] = E[X^2] + E[Y^2] + 2E[XY]$"
      ],
      "text/plain": [
       "<IPython.core.display.Math object>"
      ]
     },
     "metadata": {},
     "output_type": "display_data"
    },
    {
     "data": {
      "text/markdown": [
       "For independent \\( X \\) and \\( Y \\), \\( E[XY] = E[X]E[Y] \\), so:"
      ],
      "text/plain": [
       "<IPython.core.display.Markdown object>"
      ]
     },
     "metadata": {},
     "output_type": "display_data"
    },
    {
     "data": {
      "text/latex": [
       "$\\displaystyle \\text{Var}[X + Y] = \\text{Var}[X] + \\text{Var}[Y]$"
      ],
      "text/plain": [
       "<IPython.core.display.Math object>"
      ]
     },
     "metadata": {},
     "output_type": "display_data"
    },
    {
     "data": {
      "text/markdown": [
       "## **2.3 Real-Life Use Cases**"
      ],
      "text/plain": [
       "<IPython.core.display.Markdown object>"
      ]
     },
     "metadata": {},
     "output_type": "display_data"
    },
    {
     "data": {
      "text/markdown": [
       "1. **Insurance:** Risk assessment by summing individual claim variances."
      ],
      "text/plain": [
       "<IPython.core.display.Markdown object>"
      ]
     },
     "metadata": {},
     "output_type": "display_data"
    },
    {
     "data": {
      "text/markdown": [
       "2. **Investment:** Combining variances of independent stock returns to calculate portfolio risk."
      ],
      "text/plain": [
       "<IPython.core.display.Markdown object>"
      ]
     },
     "metadata": {},
     "output_type": "display_data"
    },
    {
     "data": {
      "text/markdown": [
       "3. **Manufacturing:** Variance in dimensions of products assembled from independent components."
      ],
      "text/plain": [
       "<IPython.core.display.Markdown object>"
      ]
     },
     "metadata": {},
     "output_type": "display_data"
    }
   ],
   "source": [
    "showDisplay(2)"
   ]
  },
  {
   "cell_type": "code",
   "execution_count": 193,
   "metadata": {},
   "outputs": [
    {
     "name": "stdout",
     "output_type": "stream",
     "text": [
      "Var[Normal]: 100.04596941928538\n",
      "Var[Poisson]: 6.996699755618754\n",
      "Var[Uniform]: 8.344329736322862\n",
      "Var[Binomial]: 4.992779873895873\n",
      "Var[Exponential]: 25.067248693122544\n",
      "Var[Beta]: 255.72543439976917\n",
      "\n",
      "Sum of individual variances: 401.1724618780146\n",
      "Variance of the combined dataset (Var[X1 + X2 + X3 + X4 + X5 + X6]): 401.83792015995135\n"
     ]
    }
   ],
   "source": [
    "variances = [\n",
    "    (\"Normal\", np.var(dataset1, ddof=1)),\n",
    "    (\"Poisson\", np.var(dataset2, ddof=1)),\n",
    "    (\"Uniform\", np.var(dataset3, ddof=1)),\n",
    "    (\"Binomial\", np.var(dataset4, ddof=1)),\n",
    "    (\"Exponential\", np.var(dataset5, ddof=1)),\n",
    "    (\"Beta\", np.var(dataset6, ddof=1)),\n",
    "]\n",
    "\n",
    "# Calculate the variance of the sum of individual variances\n",
    "sum_of_variances = sum(var[1] for var in variances)\n",
    "\n",
    "# Calculate combined dataset\n",
    "combined_dataset = dataset1 + dataset2 + dataset3 + dataset4 + dataset5 + dataset6\n",
    "variance_sum = np.var(combined_dataset, ddof=1)\n",
    "\n",
    "# Print individual variances\n",
    "for name, variance in variances:\n",
    "    print(f\"Var[{name}]: {variance}\")\n",
    "\n",
    "# Print results for the sum\n",
    "print(f\"\\nSum of individual variances: {sum_of_variances}\")\n",
    "print(f\"Variance of the combined dataset (Var[X1 + X2 + X3 + X4 + X5 + X6]): {variance_sum}\")\n"
   ]
  },
  {
   "cell_type": "markdown",
   "metadata": {},
   "source": [
    "# 3. Markov's Inequality"
   ]
  },
  {
   "cell_type": "code",
   "execution_count": 194,
   "metadata": {},
   "outputs": [
    {
     "data": {
      "text/markdown": [
       "## **3.1 Introduction**"
      ],
      "text/plain": [
       "<IPython.core.display.Markdown object>"
      ]
     },
     "metadata": {},
     "output_type": "display_data"
    },
    {
     "data": {
      "text/markdown": [
       "Markov's inequality provides an upper bound on the probability that a non-negative random variable exceeds a certain value:"
      ],
      "text/plain": [
       "<IPython.core.display.Markdown object>"
      ]
     },
     "metadata": {},
     "output_type": "display_data"
    },
    {
     "data": {
      "text/latex": [
       "$\\displaystyle P(X \\geq a) \\leq \\frac{E[X]}{a}, \\quad a > 0$"
      ],
      "text/plain": [
       "<IPython.core.display.Math object>"
      ]
     },
     "metadata": {},
     "output_type": "display_data"
    },
    {
     "data": {
      "text/markdown": [
       "## **3.2 Basic Derivation and Reasoning**"
      ],
      "text/plain": [
       "<IPython.core.display.Markdown object>"
      ]
     },
     "metadata": {},
     "output_type": "display_data"
    },
    {
     "data": {
      "text/markdown": [
       "From the definition of expectation:"
      ],
      "text/plain": [
       "<IPython.core.display.Markdown object>"
      ]
     },
     "metadata": {},
     "output_type": "display_data"
    },
    {
     "data": {
      "text/latex": [
       "$\\displaystyle E[X] = \\int_0^\\infty x \\cdot f_X(x) \\, dx$"
      ],
      "text/plain": [
       "<IPython.core.display.Math object>"
      ]
     },
     "metadata": {},
     "output_type": "display_data"
    },
    {
     "data": {
      "text/latex": [
       "$\\displaystyle \\text{Split the integral into two parts, } [0, a] \\text{ and } [a, \\infty]:$"
      ],
      "text/plain": [
       "<IPython.core.display.Math object>"
      ]
     },
     "metadata": {},
     "output_type": "display_data"
    },
    {
     "data": {
      "text/latex": [
       "$\\displaystyle E[X] \\geq a \\cdot P(X \\geq a)$"
      ],
      "text/plain": [
       "<IPython.core.display.Math object>"
      ]
     },
     "metadata": {},
     "output_type": "display_data"
    },
    {
     "data": {
      "text/markdown": [
       "Rearranging gives:"
      ],
      "text/plain": [
       "<IPython.core.display.Markdown object>"
      ]
     },
     "metadata": {},
     "output_type": "display_data"
    },
    {
     "data": {
      "text/latex": [
       "$\\displaystyle P(X \\geq a) \\leq \\frac{E[X]}{a}$"
      ],
      "text/plain": [
       "<IPython.core.display.Math object>"
      ]
     },
     "metadata": {},
     "output_type": "display_data"
    },
    {
     "data": {
      "text/markdown": [
       "## **3.3 Real-Life Use Cases**"
      ],
      "text/plain": [
       "<IPython.core.display.Markdown object>"
      ]
     },
     "metadata": {},
     "output_type": "display_data"
    },
    {
     "data": {
      "text/markdown": [
       "1. **Queuing Theory:** Bounding waiting times in service systems."
      ],
      "text/plain": [
       "<IPython.core.display.Markdown object>"
      ]
     },
     "metadata": {},
     "output_type": "display_data"
    },
    {
     "data": {
      "text/markdown": [
       "2. **Network Traffic:** Estimating probability of high data loads."
      ],
      "text/plain": [
       "<IPython.core.display.Markdown object>"
      ]
     },
     "metadata": {},
     "output_type": "display_data"
    },
    {
     "data": {
      "text/markdown": [
       "3. **Project Management:** Bounding budget or schedule overruns."
      ],
      "text/plain": [
       "<IPython.core.display.Markdown object>"
      ]
     },
     "metadata": {},
     "output_type": "display_data"
    }
   ],
   "source": [
    "showDisplay(3)"
   ]
  },
  {
   "cell_type": "code",
   "execution_count": 195,
   "metadata": {},
   "outputs": [
    {
     "name": "stdout",
     "output_type": "stream",
     "text": [
      "For a = 1.00: P(X >= 1.0) = 0.9985, Markov bound = 28.5839\n",
      "For a = 3.07: P(X >= 3.0714285714285716) = 0.9869, Markov bound = 9.3064\n",
      "For a = 5.14: P(X >= 5.142857142857143) = 0.9652, Markov bound = 5.5580\n",
      "For a = 7.21: P(X >= 7.214285714285715) = 0.9355, Markov bound = 3.9621\n",
      "For a = 9.29: P(X >= 9.285714285714286) = 0.8991, Markov bound = 3.0783\n",
      "For a = 11.36: P(X >= 11.357142857142858) = 0.8575, Markov bound = 2.5168\n",
      "For a = 13.43: P(X >= 13.42857142857143) = 0.8120, Markov bound = 2.1286\n",
      "For a = 15.50: P(X >= 15.500000000000002) = 0.7637, Markov bound = 1.8441\n",
      "For a = 17.57: P(X >= 17.571428571428573) = 0.7143, Markov bound = 1.6267\n",
      "For a = 19.64: P(X >= 19.642857142857146) = 0.6638, Markov bound = 1.4552\n",
      "For a = 21.71: P(X >= 21.714285714285715) = 0.6133, Markov bound = 1.3164\n",
      "For a = 23.79: P(X >= 23.78571428571429) = 0.5631, Markov bound = 1.2017\n",
      "For a = 25.86: P(X >= 25.85714285714286) = 0.5136, Markov bound = 1.1055\n",
      "For a = 27.93: P(X >= 27.92857142857143) = 0.4662, Markov bound = 1.0235\n",
      "For a = 30.00: P(X >= 30.0) = 0.4203, Markov bound = 0.9528\n"
     ]
    }
   ],
   "source": [
    "# Generate a non-negative dataset\n",
    "dataset = np.random.beta(2, 5, dataset_size) * 100\n",
    "\n",
    "# Define values of a\n",
    "a_values = np.linspace(1, 30, 15)  # Range of a values from 1 to 30, 1st arg is start, 2nd is end, 3rd is number of values\n",
    "probabilities = []\n",
    "bounds = []\n",
    "\n",
    "# Calculate probabilities and bounds for each value of a\n",
    "for a in a_values:\n",
    "    prob_experimental = np.mean(dataset >= a)\n",
    "    bound = np.mean(dataset) / a\n",
    "\n",
    "    probabilities.append(prob_experimental)\n",
    "    bounds.append(bound)\n",
    "# Print results\n",
    "for a, prob, bound in zip(a_values, probabilities, bounds):\n",
    "    print(f\"For a = {a:.2f}: P(X >= {a}) = {prob:.4f}, Markov bound = {bound:.4f}\")\n"
   ]
  },
  {
   "cell_type": "code",
   "execution_count": 196,
   "metadata": {},
   "outputs": [
    {
     "data": {
      "image/png": "[encoded data removed]",
      "text/plain": [
       "<Figure size 1500x600 with 1 Axes>"
      ]
     },
     "metadata": {},
     "output_type": "display_data"
    }
   ],
   "source": [
    "# Plotting the results\n",
    "plt.figure(figsize=(15, 6))\n",
    "plt.plot(a_values, probabilities, label='Empirical Probability P(X >= a)', marker='o')\n",
    "plt.plot(a_values, bounds, label='Markov Bound', marker='x')\n",
    "plt.title(\"Markov's Inequality\")\n",
    "plt.xlabel(\"Value of a\")\n",
    "plt.ylabel(\"Probability\")\n",
    "plt.legend()\n",
    "plt.grid()\n",
    "plt.axhline(0, color='black', lw=0.5)\n",
    "plt.axvline(0, color='black', lw=0.5)\n",
    "plt.show()"
   ]
  },
  {
   "cell_type": "markdown",
   "metadata": {},
   "source": [
    "# 4. Chebyshev's Inequality"
   ]
  },
  {
   "cell_type": "code",
   "execution_count": 197,
   "metadata": {},
   "outputs": [
    {
     "data": {
      "text/markdown": [
       "## **4.1 Introduction**"
      ],
      "text/plain": [
       "<IPython.core.display.Markdown object>"
      ]
     },
     "metadata": {},
     "output_type": "display_data"
    },
    {
     "data": {
      "text/markdown": [
       "Chebyshev's inequality provides a bound on the probability that a random variable deviates from its mean by more than \\( k \\) standard deviations:"
      ],
      "text/plain": [
       "<IPython.core.display.Markdown object>"
      ]
     },
     "metadata": {},
     "output_type": "display_data"
    },
    {
     "data": {
      "text/latex": [
       "$\\displaystyle P(|X - \\mu| \\geq k\\sigma) \\leq \\frac{1}{k^2}, \\quad k > 0$"
      ],
      "text/plain": [
       "<IPython.core.display.Math object>"
      ]
     },
     "metadata": {},
     "output_type": "display_data"
    },
    {
     "data": {
      "text/markdown": [
       "This inequality applies to any random variable with finite variance, regardless of its distribution."
      ],
      "text/plain": [
       "<IPython.core.display.Markdown object>"
      ]
     },
     "metadata": {},
     "output_type": "display_data"
    },
    {
     "data": {
      "text/markdown": [
       "## **4.2 Basic Derivation and Reasoning**"
      ],
      "text/plain": [
       "<IPython.core.display.Markdown object>"
      ]
     },
     "metadata": {},
     "output_type": "display_data"
    },
    {
     "data": {
      "text/markdown": [
       "From Markov's inequality:"
      ],
      "text/plain": [
       "<IPython.core.display.Markdown object>"
      ]
     },
     "metadata": {},
     "output_type": "display_data"
    },
    {
     "data": {
      "text/latex": [
       "$\\displaystyle P(|X - \\mu| \\geq k\\sigma) = P((X - \\mu)^2 \\geq k^2\\sigma^2)$"
      ],
      "text/plain": [
       "<IPython.core.display.Math object>"
      ]
     },
     "metadata": {},
     "output_type": "display_data"
    },
    {
     "data": {
      "text/latex": [
       "$\\displaystyle \\leq \\frac{E[(X - \\mu)^2]}{k^2\\sigma^2}$"
      ],
      "text/plain": [
       "<IPython.core.display.Math object>"
      ]
     },
     "metadata": {},
     "output_type": "display_data"
    },
    {
     "data": {
      "text/latex": [
       "$\\displaystyle \\text{Since } E[(X - \\mu)^2] = \\sigma^2, \\text{ this simplifies to:}$"
      ],
      "text/plain": [
       "<IPython.core.display.Math object>"
      ]
     },
     "metadata": {},
     "output_type": "display_data"
    },
    {
     "data": {
      "text/latex": [
       "$\\displaystyle P(|X - \\mu| \\geq k\\sigma) \\leq \\frac{1}{k^2}$"
      ],
      "text/plain": [
       "<IPython.core.display.Math object>"
      ]
     },
     "metadata": {},
     "output_type": "display_data"
    },
    {
     "data": {
      "text/markdown": [
       "## **4.3 Real-Life Use Cases**"
      ],
      "text/plain": [
       "<IPython.core.display.Markdown object>"
      ]
     },
     "metadata": {},
     "output_type": "display_data"
    },
    {
     "data": {
      "text/markdown": [
       "1. **Quality Control:** Ensuring products meet tolerance limits by bounding probabilities of extreme deviations."
      ],
      "text/plain": [
       "<IPython.core.display.Markdown object>"
      ]
     },
     "metadata": {},
     "output_type": "display_data"
    },
    {
     "data": {
      "text/markdown": [
       "2. **Weather Prediction:** Estimating probabilities of extreme temperature deviations."
      ],
      "text/plain": [
       "<IPython.core.display.Markdown object>"
      ]
     },
     "metadata": {},
     "output_type": "display_data"
    },
    {
     "data": {
      "text/markdown": [
       "3. **Risk Management:** Bounding the probability of significant financial losses in markets."
      ],
      "text/plain": [
       "<IPython.core.display.Markdown object>"
      ]
     },
     "metadata": {},
     "output_type": "display_data"
    }
   ],
   "source": [
    "showDisplay(4)"
   ]
  },
  {
   "cell_type": "code",
   "execution_count": 208,
   "metadata": {},
   "outputs": [
    {
     "name": "stdout",
     "output_type": "stream",
     "text": [
      "For k = 1.0: P(|X - E[X]| >= 1.0*std) = 0.1450, Chebyshev bound = 1.0000\n",
      "For k = 1.5: P(|X - E[X]| >= 1.5*std) = 0.0920, Chebyshev bound = 0.4444\n",
      "For k = 2.0: P(|X - E[X]| >= 2.0*std) = 0.0520, Chebyshev bound = 0.2500\n",
      "For k = 2.5: P(|X - E[X]| >= 2.5*std) = 0.0290, Chebyshev bound = 0.1600\n",
      "For k = 3.0: P(|X - E[X]| >= 3.0*std) = 0.0140, Chebyshev bound = 0.1111\n",
      "For k = 3.5: P(|X - E[X]| >= 3.5*std) = 0.0090, Chebyshev bound = 0.0816\n",
      "For k = 4.0: P(|X - E[X]| >= 4.0*std) = 0.0050, Chebyshev bound = 0.0625\n",
      "For k = 4.5: P(|X - E[X]| >= 4.5*std) = 0.0040, Chebyshev bound = 0.0494\n",
      "For k = 5.0: P(|X - E[X]| >= 5.0*std) = 0.0040, Chebyshev bound = 0.0400\n",
      "For k = 5.5: P(|X - E[X]| >= 5.5*std) = 0.0030, Chebyshev bound = 0.0331\n"
     ]
    }
   ],
   "source": [
    "# Generate a non-negative dataset\n",
    "np.random.seed(0)  # For reproducibility\n",
    "dataset = np.random.exponential(scale=5, size=1000)\n",
    "\n",
    "# Calculate mean and standard deviation\n",
    "mean = np.mean(dataset)\n",
    "std_dev = np.std(dataset)\n",
    "\n",
    "# Define values of k for which to calculate probabilities and bounds\n",
    "k_values = np.arange(1, 6, 0.5)  # Range of k values from 1 to 5\n",
    "probabilities = []\n",
    "bounds = []\n",
    "\n",
    "# Calculate probabilities and bounds for each value of k\n",
    "for k in k_values:\n",
    "    prob_experimental = np.mean(np.abs(dataset - mean) >= k * std_dev)\n",
    "    bound = 1 / (k ** 2)\n",
    "\n",
    "    probabilities.append(prob_experimental)\n",
    "    bounds.append(bound)\n",
    "\n",
    "# Print results\n",
    "for k, prob, bound in zip(k_values, probabilities, bounds):\n",
    "    print(f\"For k = {k:.1f}: P(|X - E[X]| >= {k}*std) = {prob:.4f}, Chebyshev bound = {bound:.4f}\")"
   ]
  },
  {
   "cell_type": "code",
   "execution_count": 209,
   "metadata": {},
   "outputs": [
    {
     "data": {
      "image/png": "[encoded data removed]",
      "text/plain": [
       "<Figure size 1000x600 with 1 Axes>"
      ]
     },
     "metadata": {},
     "output_type": "display_data"
    }
   ],
   "source": [
    "# Plotting the results\n",
    "plt.figure(figsize=(10, 6))\n",
    "plt.plot(k_values, probabilities, label='Empirical Probability P(|X - E[X]| >= k * std)', marker='o')\n",
    "plt.plot(k_values, bounds, label='Chebyshev Bound', marker='x')\n",
    "plt.title(\"Chebyshev's Inequality\")\n",
    "plt.xlabel(\"Value of k\")\n",
    "plt.ylabel(\"Probability\")\n",
    "plt.legend()\n",
    "plt.grid()\n",
    "plt.axhline(0, color='black', lw=0.5)\n",
    "plt.axvline(0, color='black', lw=0.5)\n",
    "plt.show()\n"
   ]
  },
  {
   "cell_type": "markdown",
   "metadata": {},
   "source": [
    "# 5. Weak Law of Large Numbers"
   ]
  },
  {
   "cell_type": "code",
   "execution_count": 210,
   "metadata": {},
   "outputs": [
    {
     "data": {
      "text/markdown": [
       "## **5.1 Introduction**"
      ],
      "text/plain": [
       "<IPython.core.display.Markdown object>"
      ]
     },
     "metadata": {},
     "output_type": "display_data"
    },
    {
     "data": {
      "text/markdown": [
       "The Weak Law of Large Numbers (WLLN) states that the sample average of independent, identically distributed (i.i.d.) random variables converges in probability to the population mean as the sample size grows:"
      ],
      "text/plain": [
       "<IPython.core.display.Markdown object>"
      ]
     },
     "metadata": {},
     "output_type": "display_data"
    },
    {
     "data": {
      "text/latex": [
       "$\\displaystyle P(|\\bar{X}_n - \\mu| \\geq \\epsilon) \\to 0 \\quad \\text{as } n \\to \\infty, \\quad \\epsilon > 0$"
      ],
      "text/plain": [
       "<IPython.core.display.Math object>"
      ]
     },
     "metadata": {},
     "output_type": "display_data"
    },
    {
     "data": {
      "text/markdown": [
       "This is a foundational result in probability and statistics, ensuring the reliability of sample means."
      ],
      "text/plain": [
       "<IPython.core.display.Markdown object>"
      ]
     },
     "metadata": {},
     "output_type": "display_data"
    },
    {
     "data": {
      "text/markdown": [
       "## **5.2 Basic Derivation and Reasoning**"
      ],
      "text/plain": [
       "<IPython.core.display.Markdown object>"
      ]
     },
     "metadata": {},
     "output_type": "display_data"
    },
    {
     "data": {
      "text/markdown": [
       "From Chebyshev's inequality:"
      ],
      "text/plain": [
       "<IPython.core.display.Markdown object>"
      ]
     },
     "metadata": {},
     "output_type": "display_data"
    },
    {
     "data": {
      "text/latex": [
       "$\\displaystyle P(|\\bar{X}_n - \\mu| \\geq \\epsilon) \\leq \\frac{\\text{Var}(\\bar{X}_n)}{\\epsilon^2}$"
      ],
      "text/plain": [
       "<IPython.core.display.Math object>"
      ]
     },
     "metadata": {},
     "output_type": "display_data"
    },
    {
     "data": {
      "text/latex": [
       "$\\displaystyle \\text{The variance of the sample mean } \\bar{X}_n \\text{ is given by:}$"
      ],
      "text/plain": [
       "<IPython.core.display.Math object>"
      ]
     },
     "metadata": {},
     "output_type": "display_data"
    },
    {
     "data": {
      "text/latex": [
       "$\\displaystyle \\text{Var}(\\bar{X}_n) = \\frac{\\sigma^2}{n}$"
      ],
      "text/plain": [
       "<IPython.core.display.Math object>"
      ]
     },
     "metadata": {},
     "output_type": "display_data"
    },
    {
     "data": {
      "text/markdown": [
       "Substituting this into Chebyshev's inequality:"
      ],
      "text/plain": [
       "<IPython.core.display.Markdown object>"
      ]
     },
     "metadata": {},
     "output_type": "display_data"
    },
    {
     "data": {
      "text/latex": [
       "$\\displaystyle P(|\\bar{X}_n - \\mu| \\geq \\epsilon) \\leq \\frac{\\sigma^2}{n\\epsilon^2}$"
      ],
      "text/plain": [
       "<IPython.core.display.Math object>"
      ]
     },
     "metadata": {},
     "output_type": "display_data"
    },
    {
     "data": {
      "text/latex": [
       "$\\displaystyle \\text{As } n \\to \\infty, \\, P(|\\bar{X}_n - \\mu| \\geq \\epsilon) \\to 0.$"
      ],
      "text/plain": [
       "<IPython.core.display.Math object>"
      ]
     },
     "metadata": {},
     "output_type": "display_data"
    },
    {
     "data": {
      "text/markdown": [
       "## **5.3 Real-Life Use Cases**"
      ],
      "text/plain": [
       "<IPython.core.display.Markdown object>"
      ]
     },
     "metadata": {},
     "output_type": "display_data"
    },
    {
     "data": {
      "text/markdown": [
       "1. **Polls and Surveys:** Ensures sample means approximate population means in large surveys."
      ],
      "text/plain": [
       "<IPython.core.display.Markdown object>"
      ]
     },
     "metadata": {},
     "output_type": "display_data"
    },
    {
     "data": {
      "text/markdown": [
       "2. **Manufacturing:** Averages of large production runs stabilize, reducing variability."
      ],
      "text/plain": [
       "<IPython.core.display.Markdown object>"
      ]
     },
     "metadata": {},
     "output_type": "display_data"
    },
    {
     "data": {
      "text/markdown": [
       "3. **Gambling:** Explains how casinos profit due to the law of averages."
      ],
      "text/plain": [
       "<IPython.core.display.Markdown object>"
      ]
     },
     "metadata": {},
     "output_type": "display_data"
    }
   ],
   "source": [
    "showDisplay(5)"
   ]
  },
  {
   "cell_type": "code",
   "execution_count": 211,
   "metadata": {},
   "outputs": [
    {
     "name": "stdout",
     "output_type": "stream",
     "text": [
      "Sample size: 10, Sample mean: 4.3000, True mean: 3.5000\n",
      "Sample size: 100, Sample mean: 3.3000, True mean: 3.5000\n",
      "Sample size: 1000, Sample mean: 3.5600, True mean: 3.5000\n",
      "Sample size: 10000, Sample mean: 3.4793, True mean: 3.5000\n"
     ]
    }
   ],
   "source": [
    "# Define sample sizes and true mean\n",
    "sample_sizes = [10, 100, 1000, 10000]\n",
    "true_mean = 3.5  # Mean of a fair six-sided die\n",
    "\n",
    "# Calculate and print sample means for different sample sizes\n",
    "for size in sample_sizes:\n",
    "    sample = np.random.randint(1, 7, size)  # Generate a sample from a fair die\n",
    "    sample_mean = np.mean(sample)\n",
    "    print(f\"Sample size: {size}, Sample mean: {sample_mean:.4f}, True mean: {true_mean:.4f}\")\n",
    "\n",
    "# Generate and plot sample means for larger sample sizes\n",
    "num_samples = 1000  # Number of samples to average\n",
    "sample_means = [np.mean(np.random.randint(1, 7, size)) for size in range(1, num_samples + 1)]"
   ]
  },
  {
   "cell_type": "code",
   "execution_count": 212,
   "metadata": {},
   "outputs": [
    {
     "data": {
      "image/png": "[encoded data removed]",
      "text/plain": [
       "<Figure size 1200x600 with 1 Axes>"
      ]
     },
     "metadata": {},
     "output_type": "display_data"
    }
   ],
   "source": [
    "# Plot the sample means\n",
    "plt.figure(figsize=(12, 6))\n",
    "plt.plot(range(1, num_samples + 1), sample_means, label='Sample Mean', color='blue')\n",
    "plt.axhline(y=true_mean, color='red', linestyle='--', label='True Mean (3.5)')\n",
    "plt.xlabel('Sample Size')\n",
    "plt.ylabel('Sample Mean')\n",
    "plt.title('Weak Law of Large Numbers: Convergence of Sample Mean to True Mean')\n",
    "plt.legend()\n",
    "plt.grid()\n",
    "plt.xlim(1, num_samples)\n",
    "plt.ylim(1, 6)\n",
    "plt.show()\n"
   ]
  }
 ],
 "metadata": {
  "kernelspec": {
   "display_name": "env",
   "language": "python",
   "name": "python3"
  },
  "language_info": {
   "codemirror_mode": {
    "name": "ipython",
    "version": 3
   },
   "file_extension": ".py",
   "mimetype": "text/x-python",
   "name": "python",
   "nbconvert_exporter": "python",
   "pygments_lexer": "ipython3",
   "version": "3.10.10"
  }
 },
 "nbformat": 4,
 "nbformat_minor": 2
}
